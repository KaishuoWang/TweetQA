{
  "nbformat": 4,
  "nbformat_minor": 0,
  "metadata": {
    "colab": {
      "provenance": [],
      "toc_visible": true
    },
    "kernelspec": {
      "name": "python3",
      "display_name": "Python 3"
    },
    "language_info": {
      "name": "python"
    }
  },
  "cells": [
    {
      "cell_type": "code",
      "source": [
        "!pip install git+https://github.com/Maluuba/nlg-eval.git@master\n",
        "!nlg-eval --setup"
      ],
      "metadata": {
        "colab": {
          "base_uri": "https://localhost:8080/"
        },
        "id": "v72lhoV8DVu2",
        "outputId": "83a80193-56f6-4d12-e992-0cf98ac18945"
      },
      "execution_count": 2,
      "outputs": [
        {
          "output_type": "stream",
          "name": "stdout",
          "text": [
            "Looking in indexes: https://pypi.org/simple, https://us-python.pkg.dev/colab-wheels/public/simple/\n",
            "Collecting git+https://github.com/Maluuba/nlg-eval.git@master\n",
            "  Cloning https://github.com/Maluuba/nlg-eval.git (to revision master) to /tmp/pip-req-build-3hr9m1d_\n",
            "  Running command git clone --filter=blob:none --quiet https://github.com/Maluuba/nlg-eval.git /tmp/pip-req-build-3hr9m1d_\n",
            "  Resolved https://github.com/Maluuba/nlg-eval.git to commit 7f7993035a2f4729a15d20040fd904933ea58767\n",
            "  Preparing metadata (setup.py) ... \u001b[?25l\u001b[?25hdone\n",
            "Requirement already satisfied: nltk>=3.4.5 in /usr/local/lib/python3.9/dist-packages (from nlg-eval==2.3) (3.8.1)\n",
            "Requirement already satisfied: numpy>=1.11.0 in /usr/local/lib/python3.9/dist-packages (from nlg-eval==2.3) (1.22.4)\n",
            "Requirement already satisfied: psutil>=5.6.2 in /usr/local/lib/python3.9/dist-packages (from nlg-eval==2.3) (5.9.4)\n",
            "Requirement already satisfied: requests>=2.19 in /usr/local/lib/python3.9/dist-packages (from nlg-eval==2.3) (2.27.1)\n",
            "Requirement already satisfied: six>=1.11 in /usr/local/lib/python3.9/dist-packages (from nlg-eval==2.3) (1.16.0)\n",
            "Requirement already satisfied: Cython>=0.28.5 in /usr/local/lib/python3.9/dist-packages (from nlg-eval==2.3) (0.29.34)\n",
            "Requirement already satisfied: scipy>=0.17.0 in /usr/local/lib/python3.9/dist-packages (from nlg-eval==2.3) (1.10.1)\n",
            "Requirement already satisfied: scikit-learn>=0.17 in /usr/local/lib/python3.9/dist-packages (from nlg-eval==2.3) (1.2.2)\n",
            "Collecting gensim~=3.8.3\n",
            "  Downloading gensim-3.8.3.tar.gz (23.4 MB)\n",
            "\u001b[2K     \u001b[90m━━━━━━━━━━━━━━━━━━━━━━━━━━━━━━━━━━━━━━━━\u001b[0m \u001b[32m23.4/23.4 MB\u001b[0m \u001b[31m22.5 MB/s\u001b[0m eta \u001b[36m0:00:00\u001b[0m\n",
            "\u001b[?25h  Preparing metadata (setup.py) ... \u001b[?25l\u001b[?25hdone\n",
            "Collecting Theano>=0.8.1\n",
            "  Downloading Theano-1.0.5.tar.gz (2.8 MB)\n",
            "\u001b[2K     \u001b[90m━━━━━━━━━━━━━━━━━━━━━━━━━━━━━━━━━━━━━━━━\u001b[0m \u001b[32m2.8/2.8 MB\u001b[0m \u001b[31m99.9 MB/s\u001b[0m eta \u001b[36m0:00:00\u001b[0m\n",
            "\u001b[?25h  Preparing metadata (setup.py) ... \u001b[?25l\u001b[?25hdone\n",
            "Requirement already satisfied: tqdm>=4.24 in /usr/local/lib/python3.9/dist-packages (from nlg-eval==2.3) (4.65.0)\n",
            "Collecting xdg\n",
            "  Downloading xdg-6.0.0-py3-none-any.whl (3.9 kB)\n",
            "Requirement already satisfied: smart_open>=1.8.1 in /usr/local/lib/python3.9/dist-packages (from gensim~=3.8.3->nlg-eval==2.3) (6.3.0)\n",
            "Requirement already satisfied: regex>=2021.8.3 in /usr/local/lib/python3.9/dist-packages (from nltk>=3.4.5->nlg-eval==2.3) (2022.10.31)\n",
            "Requirement already satisfied: click in /usr/local/lib/python3.9/dist-packages (from nltk>=3.4.5->nlg-eval==2.3) (8.1.3)\n",
            "Requirement already satisfied: joblib in /usr/local/lib/python3.9/dist-packages (from nltk>=3.4.5->nlg-eval==2.3) (1.1.1)\n",
            "Requirement already satisfied: certifi>=2017.4.17 in /usr/local/lib/python3.9/dist-packages (from requests>=2.19->nlg-eval==2.3) (2022.12.7)\n",
            "Requirement already satisfied: charset-normalizer~=2.0.0 in /usr/local/lib/python3.9/dist-packages (from requests>=2.19->nlg-eval==2.3) (2.0.12)\n",
            "Requirement already satisfied: urllib3<1.27,>=1.21.1 in /usr/local/lib/python3.9/dist-packages (from requests>=2.19->nlg-eval==2.3) (1.26.15)\n",
            "Requirement already satisfied: idna<4,>=2.5 in /usr/local/lib/python3.9/dist-packages (from requests>=2.19->nlg-eval==2.3) (3.4)\n",
            "Requirement already satisfied: threadpoolctl>=2.0.0 in /usr/local/lib/python3.9/dist-packages (from scikit-learn>=0.17->nlg-eval==2.3) (3.1.0)\n",
            "Building wheels for collected packages: nlg-eval, gensim, Theano\n",
            "  Building wheel for nlg-eval (setup.py) ... \u001b[?25l\u001b[?25hdone\n",
            "  Created wheel for nlg-eval: filename=nlg_eval-2.3-py3-none-any.whl size=68175165 sha256=0398752e2dc6ee61af06331ee08908da08e43060ec6d188d7707991dde308df5\n",
            "  Stored in directory: /tmp/pip-ephem-wheel-cache-t26givly/wheels/e1/0b/83/1f503b241b5ecd6e4c5bca51de64e9802602d5ebc78ca6c2c7\n",
            "  Building wheel for gensim (setup.py) ... \u001b[?25l\u001b[?25hdone\n",
            "  Created wheel for gensim: filename=gensim-3.8.3-cp39-cp39-linux_x86_64.whl size=26528021 sha256=195d54c48eebbaf9e0b4b2641ae1e32c3d972d16802d95d1e4ae828f2e580de3\n",
            "  Stored in directory: /root/.cache/pip/wheels/ca/5d/af/618594ec2f28608c1d6ee7d2b7e95a3e9b06551e3b80a491d6\n",
            "  Building wheel for Theano (setup.py) ... \u001b[?25l\u001b[?25hdone\n",
            "  Created wheel for Theano: filename=Theano-1.0.5-py3-none-any.whl size=2668109 sha256=b4ccab62b8e8dc7356ca5162b9dd0939860b089e36e99b81203058fa8eb574c5\n",
            "  Stored in directory: /root/.cache/pip/wheels/12/d8/36/e9b7c617ca8be398dcc48621c539d0cb1d41ff04e4367fc235\n",
            "Successfully built nlg-eval gensim Theano\n",
            "Installing collected packages: xdg, Theano, gensim, nlg-eval\n",
            "  Attempting uninstall: gensim\n",
            "    Found existing installation: gensim 4.3.1\n",
            "    Uninstalling gensim-4.3.1:\n",
            "      Successfully uninstalled gensim-4.3.1\n",
            "Successfully installed Theano-1.0.5 gensim-3.8.3 nlg-eval-2.3 xdg-6.0.0\n",
            "[nltk_data] Downloading package punkt to /root/nltk_data...\n",
            "[nltk_data]   Unzipping tokenizers/punkt.zip.\n",
            "\u001b[31mInstalling to /root/.cache/nlgeval\u001b[0m\n",
            "\u001b[31mIn case of incomplete downloads, delete the directory and run `nlg-eval --setup /root/.cache/nlgeval' again.\u001b[0m\n",
            "Downloading https://raw.githubusercontent.com/robmsmt/glove-gensim/4c2224bccd61627b76c50a5e1d6afd1c82699d22/glove2word2vec.py to /usr/local/lib/python3.9/dist-packages/nlgeval/word2vec.\n",
            "Downloading http://www.cs.toronto.edu/~rkiros/models/utable.npy to /root/.cache/nlgeval.\n",
            "Downloading http://nlp.stanford.edu/data/glove.6B.zip to /root/.cache/nlgeval.\n",
            "Downloading http://www.cs.toronto.edu/~rkiros/models/dictionary.txt to /root/.cache/nlgeval.\n",
            "glove2word2vec.py: 100% 1.00/1.00 [00:00<00:00, 195 chunks/s]\n",
            "Downloading http://www.cs.toronto.edu/~rkiros/models/btable.npy to /root/.cache/nlgeval.\n",
            "dictionary.txt: 550 chunks [00:00, 937 chunks/s]\n",
            "Downloading http://www.cs.toronto.edu/~rkiros/models/uni_skip.npz to /root/.cache/nlgeval.\n",
            "uni_skip.npz: 100% 634/634 [00:24<00:00, 25.8 chunks/s]\n",
            "Downloading http://www.cs.toronto.edu/~rkiros/models/uni_skip.npz.pkl to /root/.cache/nlgeval.\n",
            "uni_skip.npz.pkl: 100% 1.00/1.00 [00:00<00:00, 2.57k chunks/s]\n",
            "Downloading http://www.cs.toronto.edu/~rkiros/models/bi_skip.npz to /root/.cache/nlgeval.\n",
            "bi_skip.npz: 100% 276/276 [00:13<00:00, 20.1 chunks/s]\n",
            "Downloading http://www.cs.toronto.edu/~rkiros/models/bi_skip.npz.pkl to /root/.cache/nlgeval.\n",
            "bi_skip.npz.pkl: 100% 1.00/1.00 [00:00<00:00, 1.98k chunks/s]\n",
            "Downloading https://raw.githubusercontent.com/moses-smt/mosesdecoder/b199e654df2a26ea58f234cbb642e89d9c1f269d/scripts/generic/multi-bleu.perl to /usr/local/lib/python3.9/dist-packages/nlgeval/multibleu.\n",
            "multi-bleu.perl: 100% 1.00/1.00 [00:00<00:00, 471 chunks/s]\n",
            "utable.npy: 100% 2.23k/2.23k [01:00<00:00, 37.1 chunks/s]\n",
            "btable.npy: 100% 2.23k/2.23k [01:28<00:00, 25.2 chunks/s]\n",
            "glove.6B.zip: 100% 823/823 [02:39<00:00, 5.17 chunks/s]\n",
            "2023-04-05 20:17:26,523 : MainThread : INFO : 400000 lines with 300 dimensions\n",
            "2023-04-05 20:17:30,340 : MainThread : INFO : Model /root/.cache/nlgeval/glove.6B.300d.model.txt successfully created !!\n",
            "2023-04-05 20:17:30,341 : MainThread : INFO : loading projection weights from /root/.cache/nlgeval/glove.6B.300d.model.txt\n",
            "2023-04-05 20:18:42,304 : MainThread : INFO : loaded (400000, 300) matrix from /root/.cache/nlgeval/glove.6B.300d.model.txt\n",
            "2023-04-05 20:18:42,304 : MainThread : INFO : precomputing L2-norms of word weight vectors\n",
            "2023-04-05 20:18:43,171 : MainThread : INFO : Most similar to king are: [('queen', 0.6336469054222107), ('prince', 0.619662344455719), ('monarch', 0.5899620652198792), ('kingdom', 0.5791267156600952), ('throne', 0.5606487989425659), ('ii', 0.5562329888343811), ('iii', 0.5503199100494385), ('crown', 0.5224862694740295), ('reign', 0.521735429763794), ('kings', 0.5066401362419128)]\n",
            "2023-04-05 20:18:43,171 : MainThread : INFO : Similarity score between woman and man is 0.6998663 \n",
            "2023-04-05 20:18:43,171 : MainThread : INFO : Finished running --setup\n",
            "2023-04-05 20:18:43,296 : MainThread : INFO : loading projection weights from /root/.cache/nlgeval/glove.6B.300d.model.txt\n",
            "2023-04-05 20:19:55,233 : MainThread : INFO : loaded (400000, 300) matrix from /root/.cache/nlgeval/glove.6B.300d.model.txt\n",
            "2023-04-05 20:19:55,233 : MainThread : INFO : saving Word2VecKeyedVectors object under /root/.cache/nlgeval/glove.6B.300d.model.bin, separately None\n",
            "2023-04-05 20:19:55,233 : MainThread : INFO : storing np array 'vectors' to /root/.cache/nlgeval/glove.6B.300d.model.bin.vectors.npy\n",
            "2023-04-05 20:19:56,482 : MainThread : INFO : not storing attribute vectors_norm\n",
            "2023-04-05 20:19:57,109 : MainThread : INFO : saved /root/.cache/nlgeval/glove.6B.300d.model.bin\n",
            "2023-04-05 20:19:57,109 : MainThread : INFO : loading Word2VecKeyedVectors object from /root/.cache/nlgeval/glove.6B.300d.model.bin\n",
            "2023-04-05 20:19:57,971 : MainThread : INFO : loading vectors from /root/.cache/nlgeval/glove.6B.300d.model.bin.vectors.npy with mmap=r\n",
            "2023-04-05 20:19:57,984 : MainThread : INFO : setting ignored attribute vectors_norm to None\n",
            "2023-04-05 20:19:57,984 : MainThread : INFO : loaded /root/.cache/nlgeval/glove.6B.300d.model.bin\n",
            "WARNING: could not read rc.json in /root/.config/nlgeval, overwriting\n"
          ]
        }
      ]
    },
    {
      "cell_type": "code",
      "source": [
        "import sys\n",
        "import string\n",
        "import re\n",
        "import json\n",
        "import pandas as pd\n",
        "from nltk.translate.bleu_score import sentence_bleu\n",
        "import numpy as np\n",
        "from nlgeval.pycocoevalcap.meteor.meteor import Meteor\n",
        "from nlgeval.pycocoevalcap.rouge.rouge import Rouge\n",
        "from google.colab import drive\n",
        "drive.mount('/content/gdrive')\n",
        "\n",
        "# Run locally\n",
        "#DATA_PATH = ''\n",
        "\n",
        "# KW\n",
        "DATA_PATH = '/content/gdrive/MyDrive/TweetQA/'\n",
        "\n",
        "# FZ\n",
        "#DATA_PATH = 'gdrive/MyDrive/'"
      ],
      "metadata": {
        "colab": {
          "base_uri": "https://localhost:8080/"
        },
        "id": "0WwY5LIbCn9b",
        "outputId": "e7f3b621-32bd-4055-94fe-b09917d4de65"
      },
      "execution_count": 13,
      "outputs": [
        {
          "output_type": "stream",
          "name": "stdout",
          "text": [
            "Drive already mounted at /content/gdrive; to attempt to forcibly remount, call drive.mount(\"/content/gdrive\", force_remount=True).\n"
          ]
        }
      ]
    },
    {
      "cell_type": "markdown",
      "source": [
        "## Read predictions"
      ],
      "metadata": {
        "id": "8TdKJrGwC2x5"
      }
    },
    {
      "cell_type": "code",
      "source": [
        "ground_truth_squad = json.load(open(DATA_PATH + 'data/dev_squad_format.json'))\n",
        "ground_truth_squad = {item['qid']:item['Answer'] for item in ground_truth_squad}\n",
        "\n",
        "ground_truth = json.load(open(DATA_PATH + 'data/dev.json'))\n",
        "ground_truth = {item['qid']:item['Answer'] for item in ground_truth}\n",
        "\n",
        "roberta_predictions = json.load(open(DATA_PATH + 'roberta_predictions.json'))\n",
        "roberta_predictions = {item['qid']:item['Answer'] for item in roberta_predictions}\n",
        "\n",
        "deberta_predictions = json.load(open(DATA_PATH + 'deberta_predictions.json'))\n",
        "deberta_predictions = {item['qid']:item['Answer'] for item in deberta_predictions}\n",
        "\n",
        "bert_predictions = json.load(open(DATA_PATH + 'bert_predictions.json'))\n",
        "bert_predictions = {item['qid']:item['Answer'] for item in bert_predictions}\n",
        "\n",
        "byt5_predictions = json.load(open(DATA_PATH + 'byt5_predictions.json'))\n",
        "byt5_predictions = {item['qid']:item['Answer'] for item in byt5_predictions}"
      ],
      "metadata": {
        "id": "gy-iAXLIC4fm"
      },
      "execution_count": 14,
      "outputs": []
    },
    {
      "cell_type": "markdown",
      "source": [
        "## Helper function"
      ],
      "metadata": {
        "id": "YWmkRLw-CrG7"
      }
    },
    {
      "cell_type": "code",
      "source": [
        "def normalize_answer(s):\n",
        "    \"\"\"Lower text and remove punctuation, articles and extra whitespace.\"\"\"\n",
        "    def remove_articles(text):\n",
        "        return re.sub(r'\\b(a|an|the)\\b', ' ', text)\n",
        "\n",
        "    def white_space_fix(text):\n",
        "        return ' '.join(text.split())\n",
        "\n",
        "    def remove_punc(text):\n",
        "        exclude = set(string.punctuation)\n",
        "        return ''.join(ch for ch in text if ch not in exclude)\n",
        "\n",
        "    def lower(text):\n",
        "        return text.lower()\n",
        "\n",
        "    return white_space_fix(remove_articles(remove_punc(lower(s))))"
      ],
      "metadata": {
        "id": "CeyqO2U3Cqtc"
      },
      "execution_count": 15,
      "outputs": []
    },
    {
      "cell_type": "markdown",
      "source": [
        "## Evaluate answer from every model"
      ],
      "metadata": {
        "id": "KHfIBmq0Cvsy"
      }
    },
    {
      "cell_type": "code",
      "execution_count": 18,
      "metadata": {
        "id": "rOvgO4PRCj9k"
      },
      "outputs": [],
      "source": [
        "meteor_scorer = Meteor()\n",
        "rouge_scorer = Rouge()\n",
        "\n",
        "def ans_score(ans, gold_list):\n",
        "    ans = normalize_answer(ans)\n",
        "    gold_list = [normalize_answer(ref) for ref in gold_list]\n",
        "    bleu = sentence_bleu([_.split() for _ in gold_list], ans.split(), weights=(1,0,0,0))\n",
        "    return bleu"
      ]
    },
    {
      "cell_type": "code",
      "source": [
        "final_predictions = {'qid':[], 'Answer':[]}\n",
        "\n",
        "for id_ in ground_truth.keys():\n",
        "    gold_lst = ground_truth[id_]\n",
        "\n",
        "    # Try to find answer in roberta predictions then evaluate it\n",
        "    try:\n",
        "        if isinstance(roberta_predictions[id_], list):\n",
        "            roberta_pred = roberta_predictions[id_][0]\n",
        "        else:\n",
        "            roberta_pred = roberta_predictions[id_]\n",
        "        roberta_score = ans_score(roberta_pred, gold_lst)\n",
        "    except KeyError:\n",
        "        roberta_score = -1\n",
        "\n",
        "    # Try to find answer in deberta predictions then evaluate it\n",
        "    try:\n",
        "        if isinstance(deberta_predictions[id_], list):\n",
        "            deberta_pred = deberta_predictions[id_][0]\n",
        "        else:\n",
        "            deberta_pred = deberta_predictions[id_]\n",
        "        deberta_score = ans_score(deberta_pred, gold_lst)\n",
        "    except KeyError:\n",
        "        deberta_score = -1\n",
        "\n",
        "    # Try to find answer in bert predictions then evaluate it\n",
        "    try:\n",
        "        if isinstance(bert_predictions[id_], list):\n",
        "            bert_pred = bert_predictions[id_][0]\n",
        "        else:\n",
        "            bert_pred = bert_predictions[id_]\n",
        "        bert_score = ans_score(bert_pred, gold_lst)\n",
        "    except KeyError:\n",
        "        bert_score = -1\n",
        "\n",
        "    # Evaluate byt5 answer\n",
        "    if isinstance(byt5_predictions[id_], list):\n",
        "        byt5_pred = byt5_predictions[id_][0]\n",
        "    else:\n",
        "        byt5_pred = byt5_predictions[id_]\n",
        "    byt5_score = ans_score(byt5_pred, gold_lst)\n",
        "\n",
        "    bleus = [roberta_score, deberta_score, bert_score, byt5_score]\n",
        "    final_predictions['qid'].append(id_)\n",
        "    if bleus.index(max(bleus)) == 0 and roberta_pred != '':\n",
        "        final_predictions['Answer'].append(roberta_pred)\n",
        "    elif bleus.index(max(bleus)) == 1 and deberta_pred != '':\n",
        "        final_predictions['Answer'].append(deberta_pred)\n",
        "    elif bleus.index(max(bleus)) == 2 and bert_pred != '':\n",
        "        final_predictions['Answer'].append(bert_pred)\n",
        "    else:\n",
        "        final_predictions['Answer'].append(byt5_pred)"
      ],
      "metadata": {
        "colab": {
          "base_uri": "https://localhost:8080/"
        },
        "id": "L7ZLwR0WGTlZ",
        "outputId": "175a8bba-f418-4134-a829-a85ffdc16541"
      },
      "execution_count": 26,
      "outputs": [
        {
          "output_type": "stream",
          "name": "stderr",
          "text": [
            "/usr/local/lib/python3.9/dist-packages/nltk/translate/bleu_score.py:552: UserWarning: \n",
            "The hypothesis contains 0 counts of 3-gram overlaps.\n",
            "Therefore the BLEU score evaluates to 0, independently of\n",
            "how many N-gram overlaps of lower order it contains.\n",
            "Consider using lower n-gram order or use SmoothingFunction()\n",
            "  warnings.warn(_msg)\n",
            "/usr/local/lib/python3.9/dist-packages/nltk/translate/bleu_score.py:552: UserWarning: \n",
            "The hypothesis contains 0 counts of 4-gram overlaps.\n",
            "Therefore the BLEU score evaluates to 0, independently of\n",
            "how many N-gram overlaps of lower order it contains.\n",
            "Consider using lower n-gram order or use SmoothingFunction()\n",
            "  warnings.warn(_msg)\n",
            "/usr/local/lib/python3.9/dist-packages/nltk/translate/bleu_score.py:552: UserWarning: \n",
            "The hypothesis contains 0 counts of 2-gram overlaps.\n",
            "Therefore the BLEU score evaluates to 0, independently of\n",
            "how many N-gram overlaps of lower order it contains.\n",
            "Consider using lower n-gram order or use SmoothingFunction()\n",
            "  warnings.warn(_msg)\n"
          ]
        }
      ]
    },
    {
      "cell_type": "code",
      "source": [
        "predictions = pd.DataFrame(final_predictions)\n",
        "predictions.head(10)"
      ],
      "metadata": {
        "colab": {
          "base_uri": "https://localhost:8080/",
          "height": 363
        },
        "id": "s8GeEjwHKhKp",
        "outputId": "792ea439-ef02-4ffb-8173-9bbc188236bf"
      },
      "execution_count": 27,
      "outputs": [
        {
          "output_type": "execute_result",
          "data": {
            "text/plain": [
              "                                qid               Answer\n",
              "0  f867d1c3361549952be5639ca433895f                 w nj\n",
              "1  3839efe660c379985f7f02edab32f1e1         the forecast\n",
              "2  f1c214d65d1cd73b457c1dba09f90013                water\n",
              "3  c1b8f64f3e38a33b80a8c575f1ce902c    #endangeredrivers\n",
              "4  c5e6eb7f974409ac4561fd1c2ba0fb58              wiggins\n",
              "5  2a926fe0bbebd143a1cbc4d942bb3fcb         106-106, 8.9\n",
              "6  8afe79edb832cb15ffc4fd88f27fc1d4          106-106-8-9\n",
              "7  26ba00ae731854015da139515ed0d033              kemba's\n",
              "8  8572eeabb35b1d522215166b696dc63b  see the sky sees in\n",
              "9  ec4c0a864d610cde36d2c18d594eb9f3  the star is reactio"
            ],
            "text/html": [
              "\n",
              "  <div id=\"df-4a70e46a-ce8e-4486-aa8b-82d3f5da1c6d\">\n",
              "    <div class=\"colab-df-container\">\n",
              "      <div>\n",
              "<style scoped>\n",
              "    .dataframe tbody tr th:only-of-type {\n",
              "        vertical-align: middle;\n",
              "    }\n",
              "\n",
              "    .dataframe tbody tr th {\n",
              "        vertical-align: top;\n",
              "    }\n",
              "\n",
              "    .dataframe thead th {\n",
              "        text-align: right;\n",
              "    }\n",
              "</style>\n",
              "<table border=\"1\" class=\"dataframe\">\n",
              "  <thead>\n",
              "    <tr style=\"text-align: right;\">\n",
              "      <th></th>\n",
              "      <th>qid</th>\n",
              "      <th>Answer</th>\n",
              "    </tr>\n",
              "  </thead>\n",
              "  <tbody>\n",
              "    <tr>\n",
              "      <th>0</th>\n",
              "      <td>f867d1c3361549952be5639ca433895f</td>\n",
              "      <td>w nj</td>\n",
              "    </tr>\n",
              "    <tr>\n",
              "      <th>1</th>\n",
              "      <td>3839efe660c379985f7f02edab32f1e1</td>\n",
              "      <td>the forecast</td>\n",
              "    </tr>\n",
              "    <tr>\n",
              "      <th>2</th>\n",
              "      <td>f1c214d65d1cd73b457c1dba09f90013</td>\n",
              "      <td>water</td>\n",
              "    </tr>\n",
              "    <tr>\n",
              "      <th>3</th>\n",
              "      <td>c1b8f64f3e38a33b80a8c575f1ce902c</td>\n",
              "      <td>#endangeredrivers</td>\n",
              "    </tr>\n",
              "    <tr>\n",
              "      <th>4</th>\n",
              "      <td>c5e6eb7f974409ac4561fd1c2ba0fb58</td>\n",
              "      <td>wiggins</td>\n",
              "    </tr>\n",
              "    <tr>\n",
              "      <th>5</th>\n",
              "      <td>2a926fe0bbebd143a1cbc4d942bb3fcb</td>\n",
              "      <td>106-106, 8.9</td>\n",
              "    </tr>\n",
              "    <tr>\n",
              "      <th>6</th>\n",
              "      <td>8afe79edb832cb15ffc4fd88f27fc1d4</td>\n",
              "      <td>106-106-8-9</td>\n",
              "    </tr>\n",
              "    <tr>\n",
              "      <th>7</th>\n",
              "      <td>26ba00ae731854015da139515ed0d033</td>\n",
              "      <td>kemba's</td>\n",
              "    </tr>\n",
              "    <tr>\n",
              "      <th>8</th>\n",
              "      <td>8572eeabb35b1d522215166b696dc63b</td>\n",
              "      <td>see the sky sees in</td>\n",
              "    </tr>\n",
              "    <tr>\n",
              "      <th>9</th>\n",
              "      <td>ec4c0a864d610cde36d2c18d594eb9f3</td>\n",
              "      <td>the star is reactio</td>\n",
              "    </tr>\n",
              "  </tbody>\n",
              "</table>\n",
              "</div>\n",
              "      <button class=\"colab-df-convert\" onclick=\"convertToInteractive('df-4a70e46a-ce8e-4486-aa8b-82d3f5da1c6d')\"\n",
              "              title=\"Convert this dataframe to an interactive table.\"\n",
              "              style=\"display:none;\">\n",
              "        \n",
              "  <svg xmlns=\"http://www.w3.org/2000/svg\" height=\"24px\"viewBox=\"0 0 24 24\"\n",
              "       width=\"24px\">\n",
              "    <path d=\"M0 0h24v24H0V0z\" fill=\"none\"/>\n",
              "    <path d=\"M18.56 5.44l.94 2.06.94-2.06 2.06-.94-2.06-.94-.94-2.06-.94 2.06-2.06.94zm-11 1L8.5 8.5l.94-2.06 2.06-.94-2.06-.94L8.5 2.5l-.94 2.06-2.06.94zm10 10l.94 2.06.94-2.06 2.06-.94-2.06-.94-.94-2.06-.94 2.06-2.06.94z\"/><path d=\"M17.41 7.96l-1.37-1.37c-.4-.4-.92-.59-1.43-.59-.52 0-1.04.2-1.43.59L10.3 9.45l-7.72 7.72c-.78.78-.78 2.05 0 2.83L4 21.41c.39.39.9.59 1.41.59.51 0 1.02-.2 1.41-.59l7.78-7.78 2.81-2.81c.8-.78.8-2.07 0-2.86zM5.41 20L4 18.59l7.72-7.72 1.47 1.35L5.41 20z\"/>\n",
              "  </svg>\n",
              "      </button>\n",
              "      \n",
              "  <style>\n",
              "    .colab-df-container {\n",
              "      display:flex;\n",
              "      flex-wrap:wrap;\n",
              "      gap: 12px;\n",
              "    }\n",
              "\n",
              "    .colab-df-convert {\n",
              "      background-color: #E8F0FE;\n",
              "      border: none;\n",
              "      border-radius: 50%;\n",
              "      cursor: pointer;\n",
              "      display: none;\n",
              "      fill: #1967D2;\n",
              "      height: 32px;\n",
              "      padding: 0 0 0 0;\n",
              "      width: 32px;\n",
              "    }\n",
              "\n",
              "    .colab-df-convert:hover {\n",
              "      background-color: #E2EBFA;\n",
              "      box-shadow: 0px 1px 2px rgba(60, 64, 67, 0.3), 0px 1px 3px 1px rgba(60, 64, 67, 0.15);\n",
              "      fill: #174EA6;\n",
              "    }\n",
              "\n",
              "    [theme=dark] .colab-df-convert {\n",
              "      background-color: #3B4455;\n",
              "      fill: #D2E3FC;\n",
              "    }\n",
              "\n",
              "    [theme=dark] .colab-df-convert:hover {\n",
              "      background-color: #434B5C;\n",
              "      box-shadow: 0px 1px 3px 1px rgba(0, 0, 0, 0.15);\n",
              "      filter: drop-shadow(0px 1px 2px rgba(0, 0, 0, 0.3));\n",
              "      fill: #FFFFFF;\n",
              "    }\n",
              "  </style>\n",
              "\n",
              "      <script>\n",
              "        const buttonEl =\n",
              "          document.querySelector('#df-4a70e46a-ce8e-4486-aa8b-82d3f5da1c6d button.colab-df-convert');\n",
              "        buttonEl.style.display =\n",
              "          google.colab.kernel.accessAllowed ? 'block' : 'none';\n",
              "\n",
              "        async function convertToInteractive(key) {\n",
              "          const element = document.querySelector('#df-4a70e46a-ce8e-4486-aa8b-82d3f5da1c6d');\n",
              "          const dataTable =\n",
              "            await google.colab.kernel.invokeFunction('convertToInteractive',\n",
              "                                                     [key], {});\n",
              "          if (!dataTable) return;\n",
              "\n",
              "          const docLinkHtml = 'Like what you see? Visit the ' +\n",
              "            '<a target=\"_blank\" href=https://colab.research.google.com/notebooks/data_table.ipynb>data table notebook</a>'\n",
              "            + ' to learn more about interactive tables.';\n",
              "          element.innerHTML = '';\n",
              "          dataTable['output_type'] = 'display_data';\n",
              "          await google.colab.output.renderOutput(dataTable, element);\n",
              "          const docLink = document.createElement('div');\n",
              "          docLink.innerHTML = docLinkHtml;\n",
              "          element.appendChild(docLink);\n",
              "        }\n",
              "      </script>\n",
              "    </div>\n",
              "  </div>\n",
              "  "
            ]
          },
          "metadata": {},
          "execution_count": 27
        }
      ]
    },
    {
      "cell_type": "code",
      "source": [
        "predictions.to_json(DATA_PATH + 'final_predictions.json', orient='records')"
      ],
      "metadata": {
        "id": "y5Xyl-XNKkpC"
      },
      "execution_count": 28,
      "outputs": []
    }
  ]
}